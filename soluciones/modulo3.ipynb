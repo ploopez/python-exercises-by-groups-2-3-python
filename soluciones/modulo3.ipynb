{
 "cells": [
  {
   "cell_type": "markdown",
   "metadata": {},
   "source": [
    "MÓDULO 3: PROPIEDADES STRING 2 "
   ]
  },
  {
   "cell_type": "code",
   "execution_count": 10,
   "metadata": {},
   "outputs": [
    {
     "name": "stdout",
     "output_type": "stream",
     "text": [
      "-1\n"
     ]
    }
   ],
   "source": [
    "kaiku = \"Tierra mojada, mis recuerdos de viaje entre las lluvias\"\n",
    "palabra = kaiku.find(\"agua\")\n",
    "print(palabra)"
   ]
  },
  {
   "cell_type": "markdown",
   "metadata": {},
   "source": [
    "MÓDULO 3: PROPIEDADES STRING 3 \n"
   ]
  },
  {
   "cell_type": "code",
   "execution_count": 1,
   "metadata": {},
   "outputs": [
    {
     "name": "stdout",
     "output_type": "stream",
     "text": [
      "23\n"
     ]
    }
   ],
   "source": [
    "texto = \"electroencefalografista\"\n",
    "longitud=len(texto)\n",
    "\n",
    "print(longitud)\n"
   ]
  },
  {
   "cell_type": "markdown",
   "metadata": {},
   "source": [
    "MÓDULO 3: MÉTODO ÍNDEX 3 "
   ]
  },
  {
   "cell_type": "code",
   "execution_count": 2,
   "metadata": {},
   "outputs": [
    {
     "name": "stdout",
     "output_type": "stream",
     "text": [
      "57\n"
     ]
    }
   ],
   "source": [
    "frase = \"En teoría, la teoría y la práctica son los mismos. En la práctica, no lo son.\"\n",
    "indice = frase.rindex(\"práctica\")\n",
    "print(indice)"
   ]
  },
  {
   "cell_type": "markdown",
   "metadata": {},
   "source": [
    "MÓDULO 3: MÉTODO STRING 2 \n",
    "Une la siguiente lista en un string, separando cada elemento con un espacio. Utiliza el método apropiado de listas/strings, y muestra en pantalla el resultado.\n",
    "lista_palabras = [\"La\",\"legibilidad\",\"cuenta.\"]"
   ]
  },
  {
   "cell_type": "code",
   "execution_count": null,
   "metadata": {},
   "outputs": [],
   "source": []
  },
  {
   "cell_type": "markdown",
   "metadata": {},
   "source": [
    "MÓDULO 3: MÉTODO STRING 3 "
   ]
  },
  {
   "cell_type": "code",
   "execution_count": 7,
   "metadata": {},
   "outputs": [
    {
     "name": "stdout",
     "output_type": "stream",
     "text": [
      "Si la implementación es difícil de explicar, puede que sea una buena idea.\n"
     ]
    }
   ],
   "source": [
    "frase = \"Si la implementación es difícil de explicar, puede que sea una mala idea.\"\n",
    "reemplazar1 = frase.replace(\"difícil\", \"fácil\")\n",
    "reemplazar1 = frase.replace(\"mala\", \"buena\")\n",
    "print(reemplazar1)"
   ]
  },
  {
   "cell_type": "markdown",
   "metadata": {},
   "source": [
    "MÓDULO 3: LISTAS 2"
   ]
  },
  {
   "cell_type": "code",
   "execution_count": 11,
   "metadata": {},
   "outputs": [
    {
     "name": "stdout",
     "output_type": "stream",
     "text": [
      "['avión', 'auto', 'barco', 'bicicleta', 'motocicleta']\n"
     ]
    }
   ],
   "source": [
    "medios_transporte = [\"avión\", \"auto\", \"barco\", \"bicicleta\"]\n",
    "medios_transporte.append(\"motocicleta\")\n",
    "print(medios_transporte)"
   ]
  },
  {
   "cell_type": "markdown",
   "metadata": {},
   "source": [
    "MÓDULO 3: LISTAS 3"
   ]
  },
  {
   "cell_type": "code",
   "execution_count": 12,
   "metadata": {},
   "outputs": [
    {
     "name": "stdout",
     "output_type": "stream",
     "text": [
      "['manzana', 'banana', 'cereza', 'sandía']\n",
      "mango\n"
     ]
    }
   ],
   "source": [
    "frutas = [\"manzana\", \"banana\", \"mango\", \"cereza\", \"sandía\"]\n",
    "eliminado = frutas.pop(2)\n",
    "print(frutas)\n",
    "print(eliminado)\n"
   ]
  },
  {
   "cell_type": "markdown",
   "metadata": {},
   "source": [
    "MÓDULO 3: DICCIONARIOS 2 Crea una función print que devuelva del segundo item de la lista llamada points2, dentro del siguiente diccionario.\n",
    "Si el valor 300 cambiara en el futuro, el código debería funcionar igual para devolver el valor que se encuentre en esa misma posición. Para ello, deberás hacer referencia a los nombres de las claves y/o índices según corresponda."
   ]
  },
  {
   "cell_type": "code",
   "execution_count": null,
   "metadata": {},
   "outputs": [],
   "source": [
    "points = {}"
   ]
  },
  {
   "cell_type": "markdown",
   "metadata": {},
   "source": [
    "MÓDULO 3: DICCIONARIOS 3 Actualiza la información de nuestro diccionario llamado :\n",
    "\n",
    "mi_dic\n",
    "\n",
    "(reasignando nuevos valores a las claves según corresponda), y agrega una nueva clave llamada \"pais\" (sin tilde).\n",
    "\n",
    "Los nuevos datos son:\n",
    "\n",
    "nombre: Karen\n",
    "\n",
    "apellido: Jurgens\n",
    "\n",
    "edad: 36\n",
    "\n",
    "ocupacion: Editora\n",
    "\n",
    "pais: Colombia\n",
    "Para ello, no debes cambiar la línea de código ya escrita, sino actualizar los valores mediante métodos de diccionarios."
   ]
  },
  {
   "cell_type": "code",
   "execution_count": null,
   "metadata": {},
   "outputs": [],
   "source": [
    "mi_dic={}\n",
    "mi_dic = {'nombre':'Karen'}"
   ]
  },
  {
   "cell_type": "markdown",
   "metadata": {},
   "source": [
    "MÓDULO 3: PRÁCTICA FINAL En este ejercicio, crearás un programa en Python que solicita al usuario un texto y tres letras, y realiza varios análisis sobre el texto ingresado. El programa mostrará al usuario los resultados de estos análisis.\n",
    "Instrucciones:\n",
    "\n",
    "Utiliza la función input() para solicitar al usuario que ingrese un texto.\n",
    "Utiliza la función input() nuevamente para solicitar al usuario que ingrese tres letras a su elección.\n",
    "Utiliza métodos de cadenas para realizar los siguientes análisis:\n",
    "Contar cuántas veces aparece cada una de las letras ingresadas en el texto. Recuerda convertir tanto el texto como las letras a minúsculas para asegurarte de encontrar todas las apariciones.\n",
    "Contar la cantidad total de palabras en el texto. Puedes utilizar el método split() para dividir el texto en palabras.\n",
    "Obtener la primera y última letra del texto.\n",
    "Invertir el orden de las palabras en el texto.\n",
    "Verificar si la palabra \"Python\" está presente en el texto.\n",
    "Muestra al usuario los resultados de estos análisis de manera clara y organizada.\n",
    "Recuerda:\n",
    "\n",
    "Utiliza variables descriptivas para almacenar los resultados de cada análisis.\n",
    "Utiliza métodos de cadenas y listas para realizar los análisis de manera eficiente.\n",
    "Asegúrate de manejar correctamente las mayúsculas y minúsculas para garantizar resultados precisos."
   ]
  },
  {
   "cell_type": "code",
   "execution_count": 39,
   "metadata": {},
   "outputs": [
    {
     "name": "stdout",
     "output_type": "stream",
     "text": [
      "El texto tiene 3 palabras\n",
      "La primera letra del texto es  h\n",
      "La última letra del texto es  l\n",
      "El texto en orden invertido es: tal que hola\n",
      "La letra a aparece: 2 veces\n",
      "La letra b aparece: 0 veces\n",
      "La letra c aparece: 0 veces\n"
     ]
    }
   ],
   "source": [
    "texto = input(\"Ingrese un texto\")\n",
    "\n",
    "#Pasa el texto a minúsculas\n",
    "texto = texto.lower()\n",
    "letras= input(\"Ingrese tres letras separadas por espacio\")\n",
    "\n",
    "#separa las palabras por espacios\n",
    "palabras = texto.split(\" \")\n",
    "print(\"El texto tiene\" + \" \" + str(len(palabras)) + \" \" + \"palabras\")\n",
    "\n",
    "#Saca la primera y última letra con los índices \n",
    "print(\"La primera letra del texto es \" + \" \" + texto[0])\n",
    "print(\"La última letra del texto es \" + \" \" + texto[-1])\n",
    "\n",
    "#Revierte el orden de la lista y une los elementos separados por un espacio\n",
    "palabras.reverse()\n",
    "palabras_reverse= \" \".join(palabras)\n",
    "print(\"El texto en orden invertido es:\" + \" \" + palabras_reverse)\n",
    "\n",
    "#Busca la palabra python\n",
    "python_presente = texto.find(\"python\")\n",
    "if python_presente = 0:\n",
    "    print(\"python está presente en el texto\")\n",
    "if python_presente = -1\n",
    "    print(\"python no está presente en el texto\")\n",
    "\n",
    "#Pasa las letras a minúscula\n",
    "letras = letras.lower()\n",
    "\n",
    "#separa las 3 letras por espacios\n",
    "letras = letras.split(\" \")\n",
    "\n",
    "#almacena cada letra en una variable\n",
    "letra1 = letras[0]\n",
    "letra2 = letras[1]\n",
    "letra3 = letras[2]\n",
    "\n",
    "\n",
    "print(f\"La letra {letra1} aparece: \" + str(texto.count(letra1)) + \" \" + \"veces\")\n",
    "print(f\"La letra {letra2} aparece: \" + str(texto.count(letra2)) + \" \" + \"veces\")\n",
    "print(f\"La letra {letra3} aparece: \" + str(texto.count(letra3)) + \" \" + \"veces\")\n",
    "\n"
   ]
  }
 ],
 "metadata": {
  "kernelspec": {
   "display_name": "Python 3",
   "language": "python",
   "name": "python3"
  },
  "language_info": {
   "codemirror_mode": {
    "name": "ipython",
    "version": 3
   },
   "file_extension": ".py",
   "mimetype": "text/x-python",
   "name": "python",
   "nbconvert_exporter": "python",
   "pygments_lexer": "ipython3",
   "version": "3.12.3"
  }
 },
 "nbformat": 4,
 "nbformat_minor": 2
}
