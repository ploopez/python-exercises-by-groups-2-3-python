{
 "cells": [
  {
   "cell_type": "markdown",
   "metadata": {},
   "source": [
    "MÓDULO 4: OPERADORES LÓGICOS 1"
   ]
  },
  {
   "cell_type": "code",
   "execution_count": 8,
   "metadata": {},
   "outputs": [
    {
     "name": "stdout",
     "output_type": "stream",
     "text": [
      "False\n"
     ]
    }
   ],
   "source": [
    "num1 = 36\n",
    "num2 = 72/2\n",
    "num3 = 48\n",
    "\n",
    "\n",
    "mi_bool= (num1 > num2) and (num1 < num3)\n",
    "\n",
    "print(mi_bool)"
   ]
  },
  {
   "cell_type": "markdown",
   "metadata": {},
   "source": [
    "MÓDULO 4: OPERADORES LÓGICOS 2"
   ]
  },
  {
   "cell_type": "code",
   "execution_count": 6,
   "metadata": {},
   "outputs": [
    {
     "name": "stdout",
     "output_type": "stream",
     "text": [
      "True\n"
     ]
    }
   ],
   "source": [
    "num1 = 36\n",
    "num2 = 72/2\n",
    "num3 = 48\n",
    "\n",
    "mi_bool= (num1 > num2) or (num1 < num3)\n",
    "\n",
    "print(mi_bool)\n"
   ]
  },
  {
   "cell_type": "markdown",
   "metadata": {},
   "source": [
    "MÓDULO 4: COMPARACIONES 2 "
   ]
  },
  {
   "cell_type": "code",
   "execution_count": 7,
   "metadata": {},
   "outputs": [
    {
     "name": "stdout",
     "output_type": "stream",
     "text": [
      "True\n"
     ]
    }
   ],
   "source": [
    "num1 = 36\n",
    "num2 = 17\n",
    "\n",
    "mi_bool= (num1 >= num2) \n",
    "\n",
    "print(mi_bool)"
   ]
  },
  {
   "cell_type": "markdown",
   "metadata": {},
   "source": [
    "MÓDULO 4: COMPARACIONES 2"
   ]
  },
  {
   "cell_type": "code",
   "execution_count": 5,
   "metadata": {},
   "outputs": [
    {
     "name": "stdout",
     "output_type": "stream",
     "text": [
      "False\n"
     ]
    }
   ],
   "source": [
    "import math \n",
    "\n",
    "num1 = math.sqrt(25)\n",
    "num2 = 5\n",
    "mi_bool= (num1 > num2)\n",
    "print(mi_bool)\n"
   ]
  },
  {
   "cell_type": "markdown",
   "metadata": {},
   "source": [
    "MÓDULO 4: PRÁCTICA FINAL Escribe un programa en Python que implemente un juego interactivo de adivinanza de números. El programa debe seguir las siguientes reglas:\n",
    "\n",
    "Al inicio, el programa solicitará al usuario su nombre.\n",
    "Una vez que el usuario haya ingresado su nombre, el programa generará aleatoriamente un número secreto entre 1 y 100.\n",
    "El programa informará al usuario que ha pensado en un número y que el usuario tiene ocho intentos para adivinarlo.\n",
    "En cada intento, el programa solicitará al usuario que ingrese un número.\n",
    "El programa validará el número ingresado por el usuario y proporcionará una de las siguientes respuestas:\n",
    "Si el número está fuera del rango de 1 a 100, el programa informará al usuario que ha elegido un número no permitido.\n",
    "Si el número ingresado es menor que el número secreto, el programa indicará que la respuesta es incorrecta y que el usuario ha elegido un número menor al número secreto.\n",
    "Si el número ingresado es mayor que el número secreto, el programa indicará que la respuesta es incorrecta y que el usuario ha elegido un número mayor al número secreto.\n",
    "Si el usuario adivina correctamente el número secreto, el programa felicitará al usuario y mostrará cuántos intentos le tomó adivinarlo.\n",
    "El programa continuará solicitando al usuario que ingrese un número hasta que el usuario adivine correctamente el número secreto o hasta que se agoten los ocho intentos.\n",
    "Una vez que el usuario adivine correctamente el número secreto o se agoten los ocho intentos, el programa terminará y mostrará el número secreto si el usuario no adivinó correctamente."
   ]
  },
  {
   "cell_type": "code",
   "execution_count": 24,
   "metadata": {},
   "outputs": [
    {
     "name": "stdout",
     "output_type": "stream",
     "text": [
      "57\n",
      "Hola! elisa tienes ocho intentos para adivinar el número secreto\n",
      " Intento número 1.Respuesta incorrecta: el número que has elegido es menor que el número secreto\n",
      " Intento número 2.Respuesta incorrecta: el número que has elegido es menor que el número secreto\n",
      " Intento número 3.Respuesta incorrecta: el número que has elegido es menor que el número secreto\n",
      " Intento número 4.Respuesta incorrecta: el número que has elegido es menor que el número secreto\n",
      " Intento número 5.Respuesta incorrecta: el número que has elegido es menor que el número secreto\n",
      "Enhorabuena!! Has adivinado el número secreto\n"
     ]
    }
   ],
   "source": [
    "import random\n",
    "\n",
    "nombre = input(\"Ingrese su nombre\")\n",
    "\n",
    "random_num=random.randint(1, 100)\n",
    "\n",
    "print(f\"Hola! {nombre}\" + \" \" + \"tienes ocho intentos para adivinar el número secreto\")\n",
    "intentos = 1\n",
    "\n",
    "while intentos <= 8:\n",
    "    num1 = int(input(\"Ingrese un número\"))\n",
    "    if (num1 < 1) or (num1 > 100):\n",
    "        print(f\" Intento número {intentos}. Respuesta incorrecta: Los números permitidos son del 1 al 100\")\n",
    "    elif num1 < random_num:\n",
    "        print(f\" Intento número {intentos}.Respuesta incorrecta: el número que has elegido es menor que el número secreto\")\n",
    "    elif num1 > random_num:\n",
    "        print(f\" Intento número {intentos}.Respuesta incorrecta: el número que has elegido es mayor que el número secreto\")\n",
    "    elif num1 == random_num:\n",
    "        print(\"Enhorabuena!! Has adivinado el número secreto\")\n",
    "        break\n",
    "    intentos += 1\n",
    "\n",
    "if intentos == 9:\n",
    "        print(\"No quedan intentos\")\n"
   ]
  }
 ],
 "metadata": {
  "kernelspec": {
   "display_name": "Python 3",
   "language": "python",
   "name": "python3"
  },
  "language_info": {
   "codemirror_mode": {
    "name": "ipython",
    "version": 3
   },
   "file_extension": ".py",
   "mimetype": "text/x-python",
   "name": "python",
   "nbconvert_exporter": "python",
   "pygments_lexer": "ipython3",
   "version": "3.12.3"
  }
 },
 "nbformat": 4,
 "nbformat_minor": 2
}
